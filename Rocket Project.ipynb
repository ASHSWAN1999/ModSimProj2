{
 "cells": [
  {
   "cell_type": "code",
   "execution_count": 2,
   "metadata": {
    "collapsed": true
   },
   "outputs": [],
   "source": [
    "# If you want the figures to appear in the notebook, \n",
    "# and you want to interact with them, use\n",
    "# %matplotlib notebook\n",
    "\n",
    "# If you want the figures to appear in the notebook, \n",
    "# and you don't want to interact with them, use\n",
    "# %matplotlib inline\n",
    "\n",
    "# If you want the figures to appear in separate windows, use\n",
    "# %matplotlib qt5\n",
    "\n",
    "# tempo switch from one to another, you have to select Kernel->Restart\n",
    "\n",
    "%matplotlib inline\n",
    "\n",
    "from modsim import *\n",
    "import math"
   ]
  },
  {
   "cell_type": "code",
   "execution_count": 29,
   "metadata": {
    "collapsed": true
   },
   "outputs": [],
   "source": [
    "sat_5 = System(v0=0, vExhaust=2550, mVehicle=239725, mDot=1169.36)"
   ]
  },
  {
   "cell_type": "code",
   "execution_count": 53,
   "metadata": {},
   "outputs": [],
   "source": [
    "def calcVfinal(mFuel):\n",
    "    \n",
    "    V = sat_5.v0\n",
    "    vE = sat_5.vExhaust\n",
    "    mV = sat_5.mVehicle\n",
    "    dm = sat_5.mDot\n",
    "    m0 = mFuel\n",
    "    \n",
    "    # Time to use up all the fuel\n",
    "    t = mFuel/dm\n",
    "    V_time =  V + vE * math.log((mV + mFuel)/(mV)) - 9.8 * t\n",
    "    \n",
    "    \n",
    "    while ((mFuel - dm) > 0):\n",
    "        #print(vE * math.log((mV + mFuel)/(mV + mFuel - dm)))\n",
    "        V = V + vE * math.log((mV + mFuel)/(mV + mFuel - dm)) - 9.8\n",
    "        mFuel -= dm\n",
    "      \n",
    "    print(V_time)\n",
    "    print(V)\n",
    "    \n",
    "    # return V\n",
    "    \n",
    "    \n",
    "    "
   ]
  },
  {
   "cell_type": "code",
   "execution_count": 54,
   "metadata": {},
   "outputs": [
    {
     "name": "stdout",
     "output_type": "stream",
     "text": [
      "-14942.1973306\n",
      "-14942.6500883\n"
     ]
    }
   ],
   "source": [
    "calcVfinal(2527188)"
   ]
  },
  {
   "cell_type": "code",
   "execution_count": 17,
   "metadata": {},
   "outputs": [
    {
     "data": {
      "text/plain": [
       "10"
      ]
     },
     "execution_count": 17,
     "metadata": {},
     "output_type": "execute_result"
    }
   ],
   "source": []
  },
  {
   "cell_type": "code",
   "execution_count": null,
   "metadata": {
    "collapsed": true
   },
   "outputs": [],
   "source": [
    "# This is the test document"
   ]
  },
  {
   "cell_type": "code",
   "execution_count": null,
   "metadata": {
    "collapsed": true
   },
   "outputs": [],
   "source": [
    "#Right dude"
   ]
  }
 ],
 "metadata": {
  "kernelspec": {
   "display_name": "Python 3",
   "language": "python",
   "name": "python3"
  },
  "language_info": {
   "codemirror_mode": {
    "name": "ipython",
    "version": 3
   },
   "file_extension": ".py",
   "mimetype": "text/x-python",
   "name": "python",
   "nbconvert_exporter": "python",
   "pygments_lexer": "ipython3",
   "version": "3.6.1"
  }
 },
 "nbformat": 4,
 "nbformat_minor": 2
}
