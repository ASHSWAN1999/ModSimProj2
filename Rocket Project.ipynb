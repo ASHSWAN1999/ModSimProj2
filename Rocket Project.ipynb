{
 "cells": [
  {
   "cell_type": "code",
   "execution_count": 3,
   "metadata": {
    "collapsed": true
   },
   "outputs": [],
   "source": [
    "# If you want the figures to appear in the notebook, \n",
    "# and you want to interact with them, use\n",
    "# %matplotlib notebook\n",
    "\n",
    "# If you want the figures to appear in the notebook, \n",
    "# and you don't want to interact with them, use\n",
    "# %matplotlib inline\n",
    "\n",
    "# If you want the figures to appear in separate windows, use\n",
    "# %matplotlib qt5\n",
    "\n",
    "# tempo switch from one to another, you have to select Kernel->Restart\n",
    "\n",
    "%matplotlib inline\n",
    "\n",
    "from modsim import *\n",
    "import math"
   ]
  },
  {
   "cell_type": "code",
   "execution_count": 10,
   "metadata": {
    "collapsed": true
   },
   "outputs": [],
   "source": [
    "sat_5 = System(v0=0, vExhaust=2550, mVehicle=239725, mDot=1169.36)"
   ]
  },
  {
   "cell_type": "code",
   "execution_count": 33,
   "metadata": {
    "collapsed": true
   },
   "outputs": [],
   "source": [
    "def calcVfinal(mFuel):\n",
    "    \n",
    "    V = sat_5.v0\n",
    "    vE = sat_5.vExhaust\n",
    "    mV = sat_5.mVehicle\n",
    "    dm = sat_5.mDot\n",
    "    m0 = mFuel\n",
    "    \n",
    "    # Time to use up all the fuel\n",
    "    t = mFuel/dm\n",
    "    V_time =  V + vE * math.log((mV + mFuel)/(mV)) - 9.8 * t\n",
    "    \n",
    "    \n",
    "    while ((mFuel - dm) > 0):\n",
    "        # LOG THIS INTO A TIMESERIES\n",
    "        V = V + vE * math.log((mV + mFuel)/(mV + mFuel - dm)) - 9.8\n",
    "        mFuel -= dm\n",
    "      \n",
    "    print(V_time)\n",
    "    print(V)\n",
    "    \n",
    "    # return V\n",
    "    \n",
    "    \n",
    "    "
   ]
  },
  {
   "cell_type": "code",
   "execution_count": 34,
   "metadata": {},
   "outputs": [
    {
     "name": "stdout",
     "output_type": "stream",
     "text": [
      "-14942.1973306\n",
      "-14942.6500883\n"
     ]
    }
   ],
   "source": [
    "calcVfinal(2527188)"
   ]
  },
  {
   "cell_type": "code",
   "execution_count": 32,
   "metadata": {},
   "outputs": [
    {
     "name": "stdout",
     "output_type": "stream",
     "text": [
      "1902.7468864975515\n",
      "902.7564567806376\n",
      "5624.641910044014\n",
      "8430.145253322204\n"
     ]
    }
   ],
   "source": [
    "def simulate_saturn_v():\n",
    "    \n",
    "    # Stage 1\n",
    "    m0 = 2900000\n",
    "    mf = 731000\n",
    "    mFuel = m0-mf\n",
    "    vE = 263*9.8\n",
    "    dm = 12890\n",
    "    \n",
    "    t = mFuel/dm\n",
    "    dV1 =  vE * math.log(m0/mf) - 9.8 * t\n",
    "    \n",
    "    # Stage 2\n",
    "    m0 = 600000\n",
    "    mf = 156000\n",
    "    mFuel = m0-mf\n",
    "    vE = 421*9.8\n",
    "    dm = mFuel/475\n",
    "    \n",
    "    t = mFuel/dm\n",
    "    dV2 =  vE * math.log(m0/mf) - 9.8 * t\n",
    "    \n",
    "    # Stage 3\n",
    "    m0 = 120800\n",
    "    mf = 10000\n",
    "    mFuel = m0-mf\n",
    "    vE = 421*9.8\n",
    "    dm = mFuel/475\n",
    "    \n",
    "    t = mFuel/dm\n",
    "    dV3 =  vE * math.log(m0/mf) - 9.8 * t\n",
    "    \n",
    "    print(dV1)\n",
    "    print(dV2)\n",
    "    print(dV3)\n",
    "    print(dV1+dV2+dV3)\n",
    "    \n",
    "simulate_saturn_v()"
   ]
  },
  {
   "cell_type": "code",
   "execution_count": 30,
   "metadata": {},
   "outputs": [
    {
     "name": "stdout",
     "output_type": "stream",
     "text": [
      "658.4670982715267\n"
     ]
    }
   ],
   "source": [
    "def simulate_apollo_cmd_module():\n",
    "    \n",
    "    m0 = 14690\n",
    "    mf = 11900   # Actual empty value is 11900, but I estimate ~1/2 of that fuel was actually burned for this maneuver\n",
    "    vE = 319*9.8\n",
    "    \n",
    "    dV =  vE * math.log(m0/mf)\n",
    "    print(dV)\n",
    "    \n",
    "simulate_apollo_cmd_module()"
   ]
  },
  {
   "cell_type": "code",
   "execution_count": null,
   "metadata": {
    "collapsed": true
   },
   "outputs": [],
   "source": [
    "rocket = (system)\n",
    "\n",
    "def calcVfinal(mFuel):\n",
    "    \n",
    "    V = 0\n",
    "    vE = 1200*9.8\n",
    "    mV = sat_5.mVehicle\n",
    "    dm = sat_5.mDot\n",
    "    m0 = mFuel\n",
    "    \n",
    "    # Time to use up all the fuel\n",
    "    t = mFuel/dm\n",
    "    V_time =  V + vE * math.log((mV + mFuel)/(mV)) - 9.8 * t\n",
    "    \n",
    "    \n",
    "    while ((mFuel - dm) > 0):\n",
    "        #print(vE * math.log((mV + mFuel)/(mV + mFuel - dm)))\n",
    "        V = V + vE * math.log((mV + mFuel)/(mV + mFuel - dm)) - 9.8\n",
    "        mFuel -= dm\n",
    "      \n",
    "    print(V_time)\n",
    "    print(V)\n",
    "    \n",
    "    # return V"
   ]
  }
 ],
 "metadata": {
  "kernelspec": {
   "display_name": "Python 3",
   "language": "python",
   "name": "python3"
  },
  "language_info": {
   "codemirror_mode": {
    "name": "ipython",
    "version": 3
   },
   "file_extension": ".py",
   "mimetype": "text/x-python",
   "name": "python",
   "nbconvert_exporter": "python",
   "pygments_lexer": "ipython3",
   "version": "3.6.1"
  }
 },
 "nbformat": 4,
 "nbformat_minor": 2
}
