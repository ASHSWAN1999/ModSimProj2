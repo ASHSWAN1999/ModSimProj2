{
 "cells": [
  {
   "cell_type": "code",
   "execution_count": 3,
   "metadata": {
    "collapsed": true
   },
   "outputs": [],
   "source": [
    "# If you want the figures to appear in the notebook, \n",
    "# and you want to interact with them, use\n",
    "# %matplotlib notebook\n",
    "\n",
    "# If you want the figures to appear in the notebook, \n",
    "# and you don't want to interact with them, use\n",
    "# %matplotlib inline\n",
    "\n",
    "# If you want the figures to appear in separate windows, use\n",
    "# %matplotlib qt5\n",
    "\n",
    "# tempo switch from one to another, you have to select Kernel->Restart\n",
    "\n",
    "%matplotlib inline\n",
    "\n",
    "from modsim import *\n",
    "import math"
   ]
  },
  {
   "cell_type": "code",
   "execution_count": 10,
   "metadata": {
    "collapsed": true
   },
   "outputs": [],
   "source": [
    "sat_5 = System(v0=0, vExhaust=2550, mVehicle=239725, mDot=1169.36)"
   ]
  },
  {
   "cell_type": "code",
   "execution_count": 33,
   "metadata": {
    "collapsed": true
   },
   "outputs": [],
   "source": [
    "def calcVfinal(mFuel):\n",
    "    \n",
    "    V = sat_5.v0\n",
    "    vE = sat_5.vExhaust\n",
    "    mV = sat_5.mVehicle\n",
    "    dm = sat_5.mDot\n",
    "    m0 = mFuel\n",
    "    \n",
    "    # Time to use up all the fuel\n",
    "    t = mFuel/dm\n",
    "    V_time =  V + vE * math.log((mV + mFuel)/(mV)) - 9.8 * t\n",
    "    \n",
    "    \n",
    "    while ((mFuel - dm) > 0):\n",
    "        # LOG THIS INTO A TIMESERIES\n",
    "        V = V + vE * math.log((mV + mFuel)/(mV + mFuel - dm)) - 9.8\n",
    "        mFuel -= dm\n",
    "      \n",
    "    print(V_time)\n",
    "    print(V)\n",
    "    \n",
    "    # return V\n",
    "    \n",
    "    \n",
    "    "
   ]
  },
  {
   "cell_type": "code",
   "execution_count": 34,
   "metadata": {},
   "outputs": [
    {
     "name": "stdout",
     "output_type": "stream",
     "text": [
      "-14942.1973306\n",
      "-14942.6500883\n"
     ]
    }
   ],
   "source": [
    "calcVfinal(2527188)"
   ]
  },
  {
   "cell_type": "code",
   "execution_count": 32,
   "metadata": {},
   "outputs": [
    {
     "name": "stdout",
     "output_type": "stream",
     "text": [
      "1902.7468864975515\n",
      "902.7564567806376\n",
      "5624.641910044014\n",
      "8430.145253322204\n"
     ]
    }
   ],
   "source": [
    "def simulate_saturn_v():\n",
    "    \n",
    "    # Stage 1\n",
    "    m0 = 2900000\n",
    "    mf = 731000\n",
    "    mFuel = m0-mf\n",
    "    vE = 263*9.8\n",
    "    dm = 12890\n",
    "    \n",
    "    t = mFuel/dm\n",
    "    dV1 =  vE * math.log(m0/mf) - 9.8 * t\n",
    "    \n",
    "    # Stage 2\n",
    "    m0 = 600000\n",
    "    mf = 156000\n",
    "    mFuel = m0-mf\n",
    "    vE = 421*9.8\n",
    "    dm = mFuel/475\n",
    "    \n",
    "    t = mFuel/dm\n",
    "    dV2 =  vE * math.log(m0/mf) - 9.8 * t\n",
    "    \n",
    "    # Stage 3\n",
    "    m0 = 120800\n",
    "    mf = 10000\n",
    "    mFuel = m0-mf\n",
    "    vE = 421*9.8\n",
    "    dm = mFuel/475\n",
    "    \n",
    "    t = mFuel/dm\n",
    "    dV3 =  vE * math.log(m0/mf) - 9.8 * t\n",
    "    \n",
    "    print(dV1)\n",
    "    print(dV2)\n",
    "    print(dV3)\n",
    "    print(dV1+dV2+dV3)\n",
    "    \n",
    "simulate_saturn_v()"
   ]
  },
  {
   "cell_type": "code",
   "execution_count": 30,
   "metadata": {},
   "outputs": [
    {
     "name": "stdout",
     "output_type": "stream",
     "text": [
      "658.4670982715267\n"
     ]
    }
   ],
   "source": [
    "def simulate_apollo_cmd_module():\n",
    "    \n",
    "    m0 = 14690\n",
    "    mf = 11900   # Actual empty value is 11900, but I estimate ~1/2 of that fuel was actually burned for this maneuver\n",
    "    vE = 319*9.8\n",
    "    \n",
    "    dV =  vE * math.log(m0/mf)\n",
    "    print(dV)\n",
    "    \n",
    "simulate_apollo_cmd_module()"
   ]
  },
  {
   "cell_type": "code",
   "execution_count": null,
   "metadata": {
    "collapsed": true
   },
   "outputs": [],
   "source": [
    "# THIS IS A SANDBOX, IGNORE ITS IMPORTANCE\n",
    "\n",
    "rocket = (system)\n",
    "\n",
    "def calcVfinal(mFuel):\n",
    "    \n",
    "    V = 0\n",
    "    vE = 1200*9.8\n",
    "    mV = sat_5.mVehicle\n",
    "    dm = sat_5.mDot\n",
    "    m0 = mFuel\n",
    "    \n",
    "    # Time to use up all the fuel\n",
    "    t = mFuel/dm\n",
    "    V_time =  V + vE * math.log((mV + mFuel)/(mV)) - 9.8 * t\n",
    "    \n",
    "    \n",
    "    while ((mFuel - dm) > 0):\n",
    "        #print(vE * math.log((mV + mFuel)/(mV + mFuel - dm)))\n",
    "        V = V + vE * math.log((mV + mFuel)/(mV + mFuel - dm)) - 9.8\n",
    "        mFuel -= dm\n",
    "      \n",
    "    print(V_time)\n",
    "    print(V)\n",
    "    \n",
    "    # return V"
   ]
  },
  {
   "cell_type": "markdown",
   "metadata": {},
   "source": [
    "These are the actual functional components of the model, below:"
   ]
  },
  {
   "cell_type": "code",
   "execution_count": 89,
   "metadata": {
    "collapsed": true
   },
   "outputs": [],
   "source": [
    "rocketState = State(mFuel=10000, vCurrent=0)\n",
    "rocket = System(init=rocketState, vExhaust=2550, mDry=10, dm=1169.36)"
   ]
  },
  {
   "cell_type": "code",
   "execution_count": 78,
   "metadata": {
    "collapsed": true
   },
   "outputs": [],
   "source": [
    "def update(state, r):\n",
    "    \n",
    "    v0 = state.vCurrent\n",
    "    vf = v0 + r.vExhaust * math.log((r.mDry + state.mFuel)/(r.mDry + state.mFuel - r.dm)) - 9.8\n",
    "    \n",
    "    return State(mFuel=state.mFuel-r.dm, vCurrent=vf)"
   ]
  },
  {
   "cell_type": "code",
   "execution_count": 81,
   "metadata": {
    "collapsed": true
   },
   "outputs": [],
   "source": [
    "def run_simulation(r, update_func):\n",
    "    \n",
    "    frame = TimeFrame(columns=r.init.index)\n",
    "    t0 = 0\n",
    "    frame.loc[t0] = r.init\n",
    "    \n",
    "    # This technically makes the model a little less\n",
    "    # accurate but it prevents math errors later\n",
    "    r.init.mFuel = r.init.mFuel - (r.init.mFuel % r.dm)\n",
    "    tBurn = math.ceil(r.init.mFuel / rocket.dm)\n",
    "    \n",
    "    dt = 1   # DO NOT CHANGE THIS, MASS FLOW RATE IS IN KG/SECOND\n",
    "    ts = linrange(t0, tBurn-dt, dt)\n",
    "    #print(ts)\n",
    "    \n",
    "    for t in ts:\n",
    "        #print(update_func(frame.loc[t], r))\n",
    "        frame.loc[t+dt] = update_func(frame.loc[t], r)\n",
    "        \n",
    "    r.results = frame\n",
    "    "
   ]
  },
  {
   "cell_type": "code",
   "execution_count": 93,
   "metadata": {},
   "outputs": [
    {
     "data": {
      "text/html": [
       "<div>\n",
       "<style>\n",
       "    .dataframe thead tr:only-child th {\n",
       "        text-align: right;\n",
       "    }\n",
       "\n",
       "    .dataframe thead th {\n",
       "        text-align: left;\n",
       "    }\n",
       "\n",
       "    .dataframe tbody tr th {\n",
       "        vertical-align: top;\n",
       "    }\n",
       "</style>\n",
       "<table border=\"1\" class=\"dataframe\">\n",
       "  <thead>\n",
       "    <tr style=\"text-align: right;\">\n",
       "      <th></th>\n",
       "      <th>mFuel</th>\n",
       "      <th>vCurrent</th>\n",
       "    </tr>\n",
       "  </thead>\n",
       "  <tbody>\n",
       "    <tr>\n",
       "      <th>0</th>\n",
       "      <td>10000.00</td>\n",
       "      <td>0.000000</td>\n",
       "    </tr>\n",
       "    <tr>\n",
       "      <th>1</th>\n",
       "      <td>8830.64</td>\n",
       "      <td>306.974569</td>\n",
       "    </tr>\n",
       "    <tr>\n",
       "      <th>2</th>\n",
       "      <td>7661.28</td>\n",
       "      <td>658.957825</td>\n",
       "    </tr>\n",
       "    <tr>\n",
       "      <th>3</th>\n",
       "      <td>6491.92</td>\n",
       "      <td>1070.892042</td>\n",
       "    </tr>\n",
       "    <tr>\n",
       "      <th>4</th>\n",
       "      <td>5322.56</td>\n",
       "      <td>1566.670584</td>\n",
       "    </tr>\n",
       "    <tr>\n",
       "      <th>5</th>\n",
       "      <td>4153.20</td>\n",
       "      <td>2188.116489</td>\n",
       "    </tr>\n",
       "    <tr>\n",
       "      <th>6</th>\n",
       "      <td>2983.84</td>\n",
       "      <td>3019.120760</td>\n",
       "    </tr>\n",
       "    <tr>\n",
       "      <th>7</th>\n",
       "      <td>1814.48</td>\n",
       "      <td>4272.238425</td>\n",
       "    </tr>\n",
       "    <tr>\n",
       "      <th>8</th>\n",
       "      <td>645.12</td>\n",
       "      <td>6874.229691</td>\n",
       "    </tr>\n",
       "  </tbody>\n",
       "</table>\n",
       "</div>"
      ],
      "text/plain": [
       "      mFuel     vCurrent\n",
       "0  10000.00     0.000000\n",
       "1   8830.64   306.974569\n",
       "2   7661.28   658.957825\n",
       "3   6491.92  1070.892042\n",
       "4   5322.56  1566.670584\n",
       "5   4153.20  2188.116489\n",
       "6   2983.84  3019.120760\n",
       "7   1814.48  4272.238425\n",
       "8    645.12  6874.229691"
      ]
     },
     "execution_count": 93,
     "metadata": {},
     "output_type": "execute_result"
    }
   ],
   "source": [
    "rocketState = State(mFuel=10000, vCurrent=0)\n",
    "rocket = System(init=rocketState, vExhaust=2550, mDry=10, dm=1169.36)\n",
    "run_simulation(rocket, update)\n",
    "rocket.results"
   ]
  },
  {
   "cell_type": "code",
   "execution_count": 94,
   "metadata": {},
   "outputs": [
    {
     "data": {
      "image/png": "[encoded data removed]",
      "text/plain": [
       "<matplotlib.figure.Figure at 0x1dd2623dbe0>"
      ]
     },
     "metadata": {},
     "output_type": "display_data"
    }
   ],
   "source": [
    "plot(rocket.results.vCurrent, label='Rocket')\n",
    "decorate(xlabel='Time (s)',\n",
    "         ylabel='Velocity (m/s)')"
   ]
  },
  {
   "cell_type": "code",
   "execution_count": null,
   "metadata": {
    "collapsed": true
   },
   "outputs": [],
   "source": []
  }
 ],
 "metadata": {
  "kernelspec": {
   "display_name": "Python 3",
   "language": "python",
   "name": "python3"
  },
  "language_info": {
   "codemirror_mode": {
    "name": "ipython",
    "version": 3
   },
   "file_extension": ".py",
   "mimetype": "text/x-python",
   "name": "python",
   "nbconvert_exporter": "python",
   "pygments_lexer": "ipython3",
   "version": "3.6.1"
  }
 },
 "nbformat": 4,
 "nbformat_minor": 2
}
